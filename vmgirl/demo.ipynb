{
 "cells": [
  {
   "cell_type": "markdown",
   "metadata": {},
   "source": [
    "requests+正则表达式抓取需要翻页网站套图"
   ]
  },
  {
   "cell_type": "code",
   "execution_count": 1,
   "metadata": {},
   "outputs": [],
   "source": [
    "import requests\n",
    "import re\n",
    "import os\n",
    "import time\n",
    "from lxml import etree\n",
    "'''请求网页'''\n",
    "headers = {'user-agent': 'Mozilla/5.0 (Windows NT 10.0; Win64; x64) AppleWebKit/537.36 (KHTML, like Gecko) Chrome/80.0.3987.122 Safari/537.36 Edg/80.0.361.62'}\n",
    "#response = requests.get('https://www.vmgirls.com/12945.html',headers=headers)\n",
    "#print(response.request.headers)\n",
    "#html=response.text"
   ]
  },
  {
   "cell_type": "code",
   "execution_count": 2,
   "metadata": {},
   "outputs": [
    {
     "output_type": "execute_result",
     "data": {
      "text/plain": "['https://www.vmgirls.com/13708.html',\n 'https://www.vmgirls.com/13690.html',\n 'https://www.vmgirls.com/13679.html',\n 'https://www.vmgirls.com/13591.html',\n 'https://www.vmgirls.com/13540.html',\n 'https://www.vmgirls.com/13506.html',\n 'https://www.vmgirls.com/13487.html',\n 'https://www.vmgirls.com/13404.html']"
     },
     "metadata": {},
     "execution_count": 2
    }
   ],
   "source": [
    "root='https://www.vmgirls.com/pure'\n",
    "resq=requests.get(root,headers=headers).content\n",
    "resq_tree=etree.HTML(resq)\n",
    "urls=resq_tree.xpath('//a[@class=\"media-content\"]//@href')\n",
    "urls\n",
    ""
   ]
  },
  {
   "cell_type": "code",
   "execution_count": 3,
   "metadata": {},
   "outputs": [],
   "source": [
    "htmls = []\n",
    "for url in urls: \n",
    "    judge=True\n",
    "    i=1\n",
    "    while judge:\n",
    "        judges=[]\n",
    "        r = requests.get(url,headers=headers)\n",
    "        r_tree=etree.HTML(r.content)\n",
    "        judges=r_tree.xpath('//a[@class=\"post-page-numbers\"]/text()')\n",
    "        if str(i+1) in judges:\n",
    "            url=url.split('.')[0]+'.'+url.split('.')[1]+'.'+url.split('.')[2]+'/page-'+str(i+1)+'.html'\n",
    "            i+=1\n",
    "        else:\n",
    "            judge=False\n",
    "        htmls.append(r.text)"
   ]
  },
  {
   "cell_type": "code",
   "execution_count": 4,
   "metadata": {},
   "outputs": [
    {
     "output_type": "stream",
     "name": "stdout",
     "text": "我想去关于你的每一个地方\nhttps://static.vmgirls.com/image/2020/04/2020040212173665-scaled.jpeg\nDownloading Image: 2020040212173665-scaled.jpeg\nhttps://static.vmgirls.com/image/2020/04/2020040212182096-scaled.jpeg\nDownloading Image: 2020040212182096-scaled.jpeg\nhttps://static.vmgirls.com/image/2020/04/2020040212190111-scaled.jpeg\nDownloading Image: 2020040212190111-scaled.jpeg\nhttps://static.vmgirls.com/image/2020/04/2020040212193622-scaled.jpeg\nDownloading Image: 2020040212193622-scaled.jpeg\nhttps://static.vmgirls.com/image/2020/04/2020040212201627-scaled.jpeg\nDownloading Image: 2020040212201627-scaled.jpeg\nhttps://static.vmgirls.com/image/2020/04/2020040212205083-scaled.jpeg\nDownloading Image: 2020040212205083-scaled.jpeg\nhttps://static.vmgirls.com/image/2020/04/2020040212214386-scaled.jpeg\nDownloading Image: 2020040212214386-scaled.jpeg\nhttps://static.vmgirls.com/image/2020/04/2020040212222750-scaled.jpeg\nDownloading Image: 2020040212222750-scaled.jpeg\n柔美的春日女孩\nhttps://static.vmgirls.com/image/2020/04/2020040212041611-scaled.jpeg\nDownloading Image: 2020040212041611-scaled.jpeg\nhttps://static.vmgirls.com/image/2020/04/2020040212042492-scaled.jpeg\nDownloading Image: 2020040212042492-scaled.jpeg\nhttps://static.vmgirls.com/image/2020/04/2020040212043643-scaled.jpeg\nDownloading Image: 2020040212043643-scaled.jpeg\nhttps://static.vmgirls.com/image/2020/04/2020040212044799-scaled.jpeg\nDownloading Image: 2020040212044799-scaled.jpeg\nhttps://static.vmgirls.com/image/2020/04/2020040212050051-scaled.jpeg\nDownloading Image: 2020040212050051-scaled.jpeg\nhttps://static.vmgirls.com/image/2020/04/2020040212051132-scaled.jpeg\nDownloading Image: 2020040212051132-scaled.jpeg\nhttps://static.vmgirls.com/image/2020/04/2020040212052683-scaled.jpeg\nDownloading Image: 2020040212052683-scaled.jpeg\nhttps://static.vmgirls.com/image/2020/04/2020040212053642-scaled.jpeg\nDownloading Image: 2020040212053642-scaled.jpeg\nhttps://static.vmgirls.com/image/2020/04/2020040212054699-scaled.jpeg\nDownloading Image: 2020040212054699-scaled.jpeg\nhttps://static.vmgirls.com/image/2020/04/2020040212055642-scaled.jpeg\nDownloading Image: 2020040212055642-scaled.jpeg\nhttps://static.vmgirls.com/image/2020/04/2020040212060912-scaled.jpeg\nDownloading Image: 2020040212060912-scaled.jpeg\nhttps://static.vmgirls.com/image/2020/04/2020040212061932-scaled.jpeg\nDownloading Image: 2020040212061932-scaled.jpeg\nhttps://static.vmgirls.com/image/2020/04/2020040212063142-scaled.jpeg\nDownloading Image: 2020040212063142-scaled.jpeg\nhttps://static.vmgirls.com/image/2020/04/2020040212064013-scaled.jpeg\nDownloading Image: 2020040212064013-scaled.jpeg\nhttps://static.vmgirls.com/image/2020/04/2020040212065593-scaled.jpeg\nDownloading Image: 2020040212065593-scaled.jpeg\nhttps://static.vmgirls.com/image/2020/04/2020040212070740-scaled.jpeg\nDownloading Image: 2020040212070740-scaled.jpeg\nhttps://static.vmgirls.com/image/2020/04/2020040212071840-scaled.jpeg\nDownloading Image: 2020040212071840-scaled.jpeg\n想成为你喜欢的人\nhttps://static.vmgirls.com/image/2020/04/2020040211455354-scaled.jpeg\nDownloading Image: 2020040211455354-scaled.jpeg\nhttps://static.vmgirls.com/image/2020/04/2020040211463657-scaled.jpeg\nDownloading Image: 2020040211463657-scaled.jpeg\nhttps://static.vmgirls.com/image/2020/04/2020040211472139-scaled.jpeg\nDownloading Image: 2020040211472139-scaled.jpeg\nhttps://static.vmgirls.com/image/2020/04/2020040211474978-scaled.jpeg\nDownloading Image: 2020040211474978-scaled.jpeg\nhttps://static.vmgirls.com/image/2020/04/2020040211484828-scaled.jpeg\nDownloading Image: 2020040211484828-scaled.jpeg\nhttps://static.vmgirls.com/image/2020/04/2020040211492836-scaled.jpeg\nDownloading Image: 2020040211492836-scaled.jpeg\nhttps://static.vmgirls.com/image/2020/04/2020040211500659-scaled.jpeg\nDownloading Image: 2020040211500659-scaled.jpeg\nhttps://static.vmgirls.com/image/2020/04/2020040211504534-scaled.jpeg\nDownloading Image: 2020040211504534-scaled.jpeg\n想成为你喜欢的人\n春日小甜心\nhttps://static.vmgirls.com/image/2020/02/2020022012351052-scaled.jpeg\nDownloading Image: 2020022012351052-scaled.jpeg\nhttps://static.vmgirls.com/image/2020/02/2020022012353279-scaled.jpeg\nDownloading Image: 2020022012353279-scaled.jpeg\nhttps://static.vmgirls.com/image/2020/02/2020022012355690-scaled.jpeg\nDownloading Image: 2020022012355690-scaled.jpeg\nhttps://static.vmgirls.com/image/2020/02/2020022012362339-scaled.jpeg\nDownloading Image: 2020022012362339-scaled.jpeg\nhttps://static.vmgirls.com/image/2020/02/2020022012364993-scaled.jpeg\nDownloading Image: 2020022012364993-scaled.jpeg\n春日小甜心\nhttps://static.vmgirls.com/image/2020/02/2020022012372013-scaled.jpeg\nDownloading Image: 2020022012372013-scaled.jpeg\nhttps://static.vmgirls.com/image/2020/02/2020022012380285-scaled.jpeg\nDownloading Image: 2020022012380285-scaled.jpeg\nhttps://static.vmgirls.com/image/2020/02/2020022012385846-scaled.jpeg\nDownloading Image: 2020022012385846-scaled.jpeg\nhttps://static.vmgirls.com/image/2020/02/2020022012395267-scaled.jpeg\nDownloading Image: 2020022012395267-scaled.jpeg\nhttps://static.vmgirls.com/image/2020/02/2020022012404097.jpeg\nDownloading Image: 2020022012404097.jpeg\n"
    },
    {
     "output_type": "error",
     "ename": "IndexError",
     "evalue": "list index out of range",
     "traceback": [
      "\u001b[1;31m---------------------------------------------------------------------------\u001b[0m",
      "\u001b[1;31mIndexError\u001b[0m                                Traceback (most recent call last)",
      "\u001b[1;32m<ipython-input-4-c627ca561368>\u001b[0m in \u001b[0;36m<module>\u001b[1;34m\u001b[0m\n\u001b[0;32m      2\u001b[0m     \u001b[1;34m'''解析网页'''\u001b[0m\u001b[1;33m\u001b[0m\u001b[1;33m\u001b[0m\u001b[0m\n\u001b[0;32m      3\u001b[0m     \u001b[1;31m#print(html)\u001b[0m\u001b[1;33m\u001b[0m\u001b[1;33m\u001b[0m\u001b[1;33m\u001b[0m\u001b[0m\n\u001b[1;32m----> 4\u001b[1;33m     \u001b[0mdir_name\u001b[0m \u001b[1;33m=\u001b[0m \u001b[0mre\u001b[0m\u001b[1;33m.\u001b[0m\u001b[0mfindall\u001b[0m\u001b[1;33m(\u001b[0m\u001b[1;34m'<h1 class=\"post-title h3\">(.*?)</h1>'\u001b[0m\u001b[1;33m,\u001b[0m\u001b[0mhtml\u001b[0m\u001b[1;33m)\u001b[0m\u001b[1;33m[\u001b[0m\u001b[1;33m-\u001b[0m\u001b[1;36m1\u001b[0m\u001b[1;33m]\u001b[0m\u001b[1;33m\u001b[0m\u001b[1;33m\u001b[0m\u001b[0m\n\u001b[0m\u001b[0;32m      5\u001b[0m     \u001b[0mprint\u001b[0m\u001b[1;33m(\u001b[0m\u001b[0mdir_name\u001b[0m\u001b[1;33m)\u001b[0m\u001b[1;33m\u001b[0m\u001b[1;33m\u001b[0m\u001b[0m\n\u001b[0;32m      6\u001b[0m     \u001b[1;32mif\u001b[0m \u001b[1;32mnot\u001b[0m \u001b[0mos\u001b[0m\u001b[1;33m.\u001b[0m\u001b[0mpath\u001b[0m\u001b[1;33m.\u001b[0m\u001b[0mexists\u001b[0m\u001b[1;33m(\u001b[0m\u001b[0mdir_name\u001b[0m\u001b[1;33m)\u001b[0m\u001b[1;33m:\u001b[0m\u001b[1;31m#创建文件夹\u001b[0m\u001b[1;33m\u001b[0m\u001b[1;33m\u001b[0m\u001b[0m\n",
      "\u001b[1;31mIndexError\u001b[0m: list index out of range"
     ]
    }
   ],
   "source": [
    "for html in htmls:\n",
    "    '''解析网页'''\n",
    "    #print(html)\n",
    "    dir_name = re.findall('<h1 class=\"post-title h3\">(.*?)</h1>',html)[-1]\n",
    "    print(dir_name)\n",
    "    if not os.path.exists(dir_name):#创建文件夹\n",
    "        os.mkdir(dir_name)\n",
    "    picurls = re.findall('<a href=\"(.*?)\" alt=\".*?\" title=\".*?\">',html)\n",
    "    #print(urls)\n",
    "\n",
    "    '''保存图片'''\n",
    "    for picurl in picurls:\n",
    "        time.sleep(1)\n",
    "        fname=picurl.split('/')[-1]\n",
    "        response = requests.get(picurl,headers=headers)\n",
    "        print(picurl)\n",
    "        with open(dir_name + '/' + fname, 'wb') as f:\n",
    "            f.write(response.content)\n",
    "            print('Downloading Image:',fname)\n",
    "print('Download Successfully')"
   ]
  },
  {
   "cell_type": "code",
   "execution_count": 4,
   "metadata": {},
   "outputs": [
    {
     "output_type": "stream",
     "name": "stdout",
     "text": "[1, 2, 3, 4, 5, 6]\n"
    }
   ],
   "source": [
    "a = [1, 2, 3]\n",
    "b = [4, 5, 6]\n",
    "a.extend(b)\n",
    "print(a)"
   ]
  },
  {
   "cell_type": "code",
   "execution_count": null,
   "metadata": {},
   "outputs": [],
   "source": []
  }
 ],
 "metadata": {
  "kernelspec": {
   "display_name": "Python 3",
   "language": "python",
   "name": "python3"
  },
  "language_info": {
   "codemirror_mode": {
    "name": "ipython",
    "version": 3
   },
   "file_extension": ".py",
   "mimetype": "text/x-python",
   "name": "python",
   "nbconvert_exporter": "python",
   "pygments_lexer": "ipython3",
   "version": "3.8.0-final"
  }
 },
 "nbformat": 4,
 "nbformat_minor": 2
}