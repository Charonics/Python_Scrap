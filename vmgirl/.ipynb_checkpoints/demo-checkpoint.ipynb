{
 "cells": [
  {
   "cell_type": "markdown",
   "metadata": {},
   "source": [
    "requests+正则表达式抓取需要翻页网站套图"
   ]
  },
  {
   "cell_type": "code",
   "execution_count": 2,
   "metadata": {},
   "outputs": [],
   "source": [
    "import requests\n",
    "import re\n",
    "import os\n",
    "import time\n",
    "from lxml import etree\n",
    "'''请求网页'''\n",
    "headers = {'user-agent': 'Mozilla/5.0 (Windows NT 10.0; Win64; x64) AppleWebKit/537.36 (KHTML, like Gecko) Chrome/80.0.3987.122 Safari/537.36 Edg/80.0.361.62'}\n",
    "#response = requests.get('https://www.vmgirls.com/12945.html',headers=headers)\n",
    "#print(response.request.headers)\n",
    "#html=response.text"
   ]
  },
  {
   "cell_type": "code",
   "execution_count": 9,
   "metadata": {},
   "outputs": [
    {
     "data": {
      "text/plain": [
       "['https://www.vmgirls.com/13708.html',\n",
       " 'https://www.vmgirls.com/13690.html',\n",
       " 'https://www.vmgirls.com/13679.html',\n",
       " 'https://www.vmgirls.com/13591.html',\n",
       " 'https://www.vmgirls.com/13540.html',\n",
       " 'https://www.vmgirls.com/13506.html',\n",
       " 'https://www.vmgirls.com/13487.html',\n",
       " 'https://www.vmgirls.com/13404.html']"
      ]
     },
     "execution_count": 9,
     "metadata": {},
     "output_type": "execute_result"
    }
   ],
   "source": [
    "root='https://www.vmgirls.com/pure'\n",
    "resq=requests.get(root,headers=headers).content\n",
    "resq_tree=etree.HTML(resq)\n",
    "urls=resq_tree.xpath('//a[@class=\"media-content\"]//@href')\n",
    "urls\n"
   ]
  },
  {
   "cell_type": "code",
   "execution_count": 12,
   "metadata": {},
   "outputs": [],
   "source": [
    "htmls = []\n",
    "for url in urls: \n",
    "    judge=True\n",
    "    i=1\n",
    "    while judge:\n",
    "        judges=[]\n",
    "        r = requests.get(url,headers=headers)\n",
    "        r_tree=etree.HTML(r.content)\n",
    "        judges=r_tree.xpath('//a[@class=\"post-page-numbers\"]/text()')\n",
    "        if str(i+1) in judges:\n",
    "            url=url.split('.')[0]+'.'+url.split('.')[1]+'.'+url.split('.')[2]+'/page-'+str(i+1)+'.html'\n",
    "            i+=1\n",
    "        else:\n",
    "            judge=False\n",
    "        htmls.append(r.text)"
   ]
  },
  {
   "cell_type": "code",
   "execution_count": 13,
   "metadata": {},
   "outputs": [
    {
     "name": "stdout",
     "output_type": "stream",
     "text": [
      "想把夏日的阳光寄给冬日的你\n",
      "https://static.vmgirls.com/image/2019/12/2019122709350091.jpeg\n",
      "Downloading Image: 2019122709350091.jpeg\n",
      "https://static.vmgirls.com/image/2019/12/2019122709350261.jpeg\n",
      "Downloading Image: 2019122709350261.jpeg\n",
      "https://static.vmgirls.com/image/2019/12/2019122709350420.jpeg\n",
      "Downloading Image: 2019122709350420.jpeg\n",
      "https://static.vmgirls.com/image/2019/12/2019122709350534.jpeg\n",
      "Downloading Image: 2019122709350534.jpeg\n",
      "https://static.vmgirls.com/image/2019/12/2019122709350791.jpeg\n",
      "Downloading Image: 2019122709350791.jpeg\n",
      "想把夏日的阳光寄给冬日的你\n",
      "https://static.vmgirls.com/image/2019/12/2019122709350846.jpeg\n",
      "Downloading Image: 2019122709350846.jpeg\n",
      "https://static.vmgirls.com/image/2019/12/2019122709350981.jpeg\n",
      "Downloading Image: 2019122709350981.jpeg\n",
      "https://static.vmgirls.com/image/2019/12/2019122709351067.jpeg\n",
      "Downloading Image: 2019122709351067.jpeg\n",
      "https://static.vmgirls.com/image/2019/12/2019122709351121.jpeg\n",
      "Downloading Image: 2019122709351121.jpeg\n",
      "https://static.vmgirls.com/image/2019/12/2019122709351259.jpeg\n",
      "Downloading Image: 2019122709351259.jpeg\n"
     ]
    },
    {
     "ename": "IndexError",
     "evalue": "list index out of range",
     "output_type": "error",
     "traceback": [
      "\u001b[1;31m---------------------------------------------------------------------------\u001b[0m",
      "\u001b[1;31mIndexError\u001b[0m                                Traceback (most recent call last)",
      "\u001b[1;32m<ipython-input-13-1343d24239bd>\u001b[0m in \u001b[0;36m<module>\u001b[1;34m\u001b[0m\n\u001b[0;32m      2\u001b[0m     \u001b[1;34m'''解析网页'''\u001b[0m\u001b[1;33m\u001b[0m\u001b[1;33m\u001b[0m\u001b[0m\n\u001b[0;32m      3\u001b[0m     \u001b[1;31m#print(html)\u001b[0m\u001b[1;33m\u001b[0m\u001b[1;33m\u001b[0m\u001b[1;33m\u001b[0m\u001b[0m\n\u001b[1;32m----> 4\u001b[1;33m     \u001b[0mdir_name\u001b[0m \u001b[1;33m=\u001b[0m \u001b[0mre\u001b[0m\u001b[1;33m.\u001b[0m\u001b[0mfindall\u001b[0m\u001b[1;33m(\u001b[0m\u001b[1;34m'<h1 class=\"post-title h3\">(.*?)</h1>'\u001b[0m\u001b[1;33m,\u001b[0m\u001b[0mhtml\u001b[0m\u001b[1;33m)\u001b[0m\u001b[1;33m[\u001b[0m\u001b[1;33m-\u001b[0m\u001b[1;36m1\u001b[0m\u001b[1;33m]\u001b[0m\u001b[1;33m\u001b[0m\u001b[1;33m\u001b[0m\u001b[0m\n\u001b[0m\u001b[0;32m      5\u001b[0m     \u001b[0mprint\u001b[0m\u001b[1;33m(\u001b[0m\u001b[0mdir_name\u001b[0m\u001b[1;33m)\u001b[0m\u001b[1;33m\u001b[0m\u001b[1;33m\u001b[0m\u001b[0m\n\u001b[0;32m      6\u001b[0m     \u001b[1;32mif\u001b[0m \u001b[1;32mnot\u001b[0m \u001b[0mos\u001b[0m\u001b[1;33m.\u001b[0m\u001b[0mpath\u001b[0m\u001b[1;33m.\u001b[0m\u001b[0mexists\u001b[0m\u001b[1;33m(\u001b[0m\u001b[0mdir_name\u001b[0m\u001b[1;33m)\u001b[0m\u001b[1;33m:\u001b[0m\u001b[1;31m#创建文件夹\u001b[0m\u001b[1;33m\u001b[0m\u001b[1;33m\u001b[0m\u001b[0m\n",
      "\u001b[1;31mIndexError\u001b[0m: list index out of range"
     ]
    }
   ],
   "source": [
    "for html in htmls:\n",
    "    '''解析网页'''\n",
    "    #print(html)\n",
    "    dir_name = re.findall('<h1 class=\"post-title h3\">(.*?)</h1>',html)[-1]\n",
    "    print(dir_name)\n",
    "    if not os.path.exists(dir_name):#创建文件夹\n",
    "        os.mkdir(dir_name)\n",
    "    picurls = re.findall('<a href=\"(.*?)\" alt=\".*?\" title=\".*?\">',html)\n",
    "    #print(urls)\n",
    "\n",
    "    '''保存图片'''\n",
    "    for picurl in picurls:\n",
    "        time.sleep(1)\n",
    "        fname=picurl.split('/')[-1]\n",
    "        response = requests.get(picurl,headers=headers)\n",
    "        print(picurl)\n",
    "        with open(dir_name + '/' + fname, 'wb') as f:\n",
    "            f.write(response.content)\n",
    "            print('Downloading Image:',fname)\n",
    "print('Download Successfully')"
   ]
  }
 ],
 "metadata": {
  "kernelspec": {
   "display_name": "Python 3",
   "language": "python",
   "name": "python3"
  },
  "language_info": {
   "codemirror_mode": {
    "name": "ipython",
    "version": 3
   },
   "file_extension": ".py",
   "mimetype": "text/x-python",
   "name": "python",
   "nbconvert_exporter": "python",
   "pygments_lexer": "ipython3",
   "version": "3.8.0"
  }
 },
 "nbformat": 4,
 "nbformat_minor": 2
}
